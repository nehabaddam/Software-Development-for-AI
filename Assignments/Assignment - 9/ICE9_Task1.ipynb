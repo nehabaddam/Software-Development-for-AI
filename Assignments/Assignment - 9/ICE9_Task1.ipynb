{
  "nbformat": 4,
  "nbformat_minor": 0,
  "metadata": {
    "colab": {
      "provenance": [],
      "collapsed_sections": []
    },
    "kernelspec": {
      "name": "python3",
      "display_name": "Python 3"
    },
    "language_info": {
      "name": "python"
    }
  },
  "cells": [
    {
      "cell_type": "code",
      "execution_count": 1,
      "metadata": {
        "id": "iESkKkTCmXHp",
        "colab": {
          "base_uri": "https://localhost:8080/",
          "height": 0
        },
        "outputId": "bac5911f-2c22-4815-d249-46101a0d5e20"
      },
      "outputs": [
        {
          "output_type": "stream",
          "name": "stdout",
          "text": [
            "Mounted at /content/drive\n"
          ]
        }
      ],
      "source": [
        "from google.colab import drive\n",
        "drive.mount('/content/drive')"
      ]
    },
    {
      "cell_type": "markdown",
      "source": [
        "# **1)Testing of House Price Prediction model based on lotsize**"
      ],
      "metadata": {
        "id": "BhwbCiY94-eY"
      }
    },
    {
      "cell_type": "code",
      "source": [
        "# Python code to illustrate \n",
        "# regression using data set\n",
        "import matplotlib\n",
        "#matplotlib.use('GTKAgg')\n",
        "   \n",
        "import matplotlib.pyplot as plt\n",
        "import numpy as np\n",
        "from sklearn import datasets, linear_model\n",
        "import pandas as pd\n",
        "   \n",
        "# Load CSV and columns\n",
        "df = pd.read_csv(\"/content/Housing.csv\")\n",
        "   \n",
        "Y = df['price']\n",
        "X = df['lotsize']\n",
        "   \n",
        "X=X.values.reshape(len(X),1)\n",
        "Y=Y.values.reshape(len(Y),1)\n",
        "   \n",
        "# Split the data into training/testing sets\n",
        "X_train = X[:-250]\n",
        "X_test = X[-250:]\n",
        "   \n",
        "# Split the targets into training/testing sets\n",
        "Y_train = Y[:-250]\n",
        "Y_test = Y[-250:]\n",
        "   \n",
        "# Plot outputs\n",
        "plt.scatter(X_test, Y_test,  color='black')\n",
        "plt.title('Test Data')\n",
        "plt.xlabel('Size')\n",
        "plt.ylabel('Price')\n",
        "plt.xticks(())\n",
        "plt.yticks(())\n",
        "   \n",
        "  \n",
        "# Create linear regression object\n",
        "regr = linear_model.LinearRegression()\n",
        "   \n",
        "# Train the model using the training sets\n",
        "regr.fit(X_train, Y_train)\n",
        "   \n",
        "# Plot outputs\n",
        "plt.plot(X_test, regr.predict(X_test), color='red',linewidth=3)\n",
        "plt.show()\n"
      ],
      "metadata": {
        "id": "7M5iWu5w4_ih",
        "colab": {
          "base_uri": "https://localhost:8080/",
          "height": 278
        },
        "outputId": "3db0906b-59a4-475e-8a6d-74baa98246a2"
      },
      "execution_count": 2,
      "outputs": [
        {
          "output_type": "display_data",
          "data": {
            "text/plain": [
              "<Figure size 432x288 with 1 Axes>"
            ],
            "image/png": "[encoded data removed]"
          },
          "metadata": {}
        }
      ]
    },
    {
      "cell_type": "markdown",
      "source": [
        "### **Test normally using assert**"
      ],
      "metadata": {
        "id": "pTnk8Tjo5O3s"
      }
    },
    {
      "cell_type": "code",
      "source": [
        "try:\n",
        "  assert regr.predict([[1670]]) <= 50000 \n",
        "  print('Testcase Passed')\n",
        "except AssertionError:\n",
        "  print('Testcase Failed')"
      ],
      "metadata": {
        "id": "7kKEXNcf5P-i",
        "colab": {
          "base_uri": "https://localhost:8080/",
          "height": 0
        },
        "outputId": "dc23ddb1-ffdc-4650-904a-f7e2c5a2ad55"
      },
      "execution_count": 3,
      "outputs": [
        {
          "output_type": "stream",
          "name": "stdout",
          "text": [
            "Testcase Passed\n"
          ]
        }
      ]
    },
    {
      "cell_type": "markdown",
      "source": [
        "### **Test by putting boundries**\n",
        "\n",
        "Specified Boundries:\n",
        "\n",
        "  If lotsize is between 1650 and 4425, test case 1 should be passed.\n",
        "\n",
        "    Test case 1: The price of house should between 25000 and 69000.\n",
        "\n",
        "  If lotsize is between 4426 and 10500, test case 2 should be passed.\n",
        "\n",
        "    Test case 2: The price of house should between 69001 and 163000."
      ],
      "metadata": {
        "id": "Q8IgennU5Uzj"
      }
    },
    {
      "cell_type": "code",
      "source": [
        " def TestCase1(func):\n",
        "    def inner1(*args, **kwargs):\n",
        "        returned_value = func(*args, **kwargs)\n",
        "        if returned_value > 25000 and returned_value < 69000:\n",
        "          return 'Test case passed.'\n",
        "        else:\n",
        "          return 'Test case failed.'\n",
        "    return inner1"
      ],
      "metadata": {
        "id": "xFQay6TY5b4U"
      },
      "execution_count": 4,
      "outputs": []
    },
    {
      "cell_type": "code",
      "source": [
        "def TestCase2(func):\n",
        "    def inner1(*args, **kwargs):\n",
        "        returned_value = func(*args, **kwargs)\n",
        "        if returned_value > 69001 and returned_value < 163000:\n",
        "          return 'Test case passed.'\n",
        "        else:\n",
        "          return 'Test case failed.'\n",
        "    return inner1"
      ],
      "metadata": {
        "id": "0dIu2JU-5kI9"
      },
      "execution_count": 5,
      "outputs": []
    },
    {
      "cell_type": "code",
      "source": [
        "area = int(input(\"Enter area of house between 1650 to 105000: \"))\n",
        "\n",
        "if area<=4425 and area>=1650:\n",
        "  @TestCase1\n",
        "  def func(area):\n",
        "     return regr.predict([[area]])[0][0]\n",
        "  print(func(area))\n",
        "elif area<=10500 and area>=4426:\n",
        "  @TestCase2\n",
        "  def func(area):\n",
        "    return regr.predict([[area]])[0][0]\n",
        "  print(func(area))\n",
        "else:\n",
        "  print('Provide key between 1650 to 10500')"
      ],
      "metadata": {
        "id": "l5XwOXKk5usd",
        "colab": {
          "base_uri": "https://localhost:8080/",
          "height": 0
        },
        "outputId": "4dc4b402-5519-4f27-8532-1f395b74cc13"
      },
      "execution_count": 7,
      "outputs": [
        {
          "output_type": "stream",
          "name": "stdout",
          "text": [
            "Enter area of house between 1650 to 105000: 9000\n",
            "Test case passed.\n"
          ]
        }
      ]
    },
    {
      "cell_type": "markdown",
      "source": [
        "# **2)Testing of Image Classfication Model using Assert**\n"
      ],
      "metadata": {
        "id": "OjO2BiTf0G_t"
      }
    },
    {
      "cell_type": "code",
      "source": [
        "import matplotlib.pyplot as plt\n",
        "import seaborn as sns\n",
        "\n",
        "import keras\n",
        "from keras.models import Sequential\n",
        "from keras.layers import Dense, Conv2D , MaxPool2D , Flatten , Dropout \n",
        "from keras.preprocessing.image import ImageDataGenerator\n",
        "from tensorflow.keras.optimizers import Adam\n",
        "\n",
        "from sklearn.metrics import classification_report,confusion_matrix\n",
        "\n",
        "import tensorflow as tf\n",
        "\n",
        "import cv2\n",
        "import os\n",
        "\n",
        "import numpy as np\n",
        "\n"
      ],
      "metadata": {
        "id": "8Yk0Wgft0l_F"
      },
      "execution_count": 8,
      "outputs": []
    },
    {
      "cell_type": "code",
      "source": [
        "labels = ['rugby', 'soccer']\n",
        "img_size = 224\n",
        "def get_data(data_dir):\n",
        "    data = [] \n",
        "    for label in labels: \n",
        "        path = os.path.join(data_dir, label)\n",
        "        class_num = labels.index(label)\n",
        "        for img in os.listdir(path):\n",
        "            try:\n",
        "                img_arr = cv2.imread(os.path.join(path, img))[...,::-1] #convert BGR to RGB format\n",
        "                resized_arr = cv2.resize(img_arr, (img_size, img_size)) # Reshaping images to preferred size\n",
        "                data.append([resized_arr, class_num])\n",
        "            except Exception as e:\n",
        "                print(e)\n",
        "    return np.array(data)"
      ],
      "metadata": {
        "id": "IY7_tsqf0qer"
      },
      "execution_count": 9,
      "outputs": []
    },
    {
      "cell_type": "code",
      "source": [],
      "metadata": {
        "id": "sit5NLyo01GQ"
      },
      "execution_count": null,
      "outputs": []
    },
    {
      "cell_type": "code",
      "source": [
        "# Now we can easily fetch our train and validation data.\n",
        "train = get_data(\"/content/drive/MyDrive/input/train\")\n",
        "val = get_data(\"/content/drive/MyDrive/input/test\")\n",
        " "
      ],
      "metadata": {
        "id": "iZw2fnB60tgw",
        "colab": {
          "base_uri": "https://localhost:8080/",
          "height": 0
        },
        "outputId": "e5aa31e6-7263-4d04-ddc9-4a5475f58aac"
      },
      "execution_count": 10,
      "outputs": [
        {
          "output_type": "stream",
          "name": "stderr",
          "text": [
            "/usr/local/lib/python3.7/dist-packages/ipykernel_launcher.py:15: VisibleDeprecationWarning: Creating an ndarray from ragged nested sequences (which is a list-or-tuple of lists-or-tuples-or ndarrays with different lengths or shapes) is deprecated. If you meant to do this, you must specify 'dtype=object' when creating the ndarray.\n",
            "  from ipykernel import kernelapp as app\n"
          ]
        }
      ]
    },
    {
      "cell_type": "code",
      "source": [
        "x_train = []\n",
        "y_train = []\n",
        "x_val = []\n",
        "y_val = []\n",
        "\n",
        "for feature, label in train:\n",
        "  x_train.append(feature)\n",
        "  y_train.append(label)\n",
        "\n",
        "for feature, label in val:\n",
        "  x_val.append(feature)\n",
        "  y_val.append(label)\n",
        "\n",
        "# Normalize the data\n",
        "x_train = np.array(x_train) / 255\n",
        "x_val = np.array(x_val) / 255\n",
        "\n",
        "x_train.reshape(-1, img_size, img_size, 1)\n",
        "y_train = np.array(y_train)\n",
        "\n",
        "x_val.reshape(-1, img_size, img_size, 1)\n",
        "y_val = np.array(y_val)\n"
      ],
      "metadata": {
        "id": "ObtwxJoH08Dy"
      },
      "execution_count": 11,
      "outputs": []
    },
    {
      "cell_type": "code",
      "source": [
        "datagen = ImageDataGenerator(\n",
        "        featurewise_center=False,  # set input mean to 0 over the dataset\n",
        "        samplewise_center=False,  # set each sample mean to 0\n",
        "        featurewise_std_normalization=False,  # divide inputs by std of the dataset\n",
        "        samplewise_std_normalization=False,  # divide each input by its std\n",
        "        zca_whitening=False,  # apply ZCA whitening\n",
        "        rotation_range = 30,  # randomly rotate images in the range (degrees, 0 to 180)\n",
        "        zoom_range = 0.2, # Randomly zoom image \n",
        "        width_shift_range=0.1,  # randomly shift images horizontally (fraction of total width)\n",
        "        height_shift_range=0.1,  # randomly shift images vertically (fraction of total height)\n",
        "        horizontal_flip = True,  # randomly flip images\n",
        "        vertical_flip=False)  # randomly flip images\n",
        "\n",
        "\n",
        "datagen.fit(x_train)"
      ],
      "metadata": {
        "id": "nJ04f9Nd1BUa"
      },
      "execution_count": 12,
      "outputs": []
    },
    {
      "cell_type": "code",
      "source": [
        "model = Sequential()\n",
        "model.add(Conv2D(32,3,padding=\"same\", activation=\"relu\", input_shape=(224,224,3)))\n",
        "model.add(MaxPool2D())\n",
        "\n",
        "model.add(Conv2D(32, 3, padding=\"same\", activation=\"relu\"))\n",
        "model.add(MaxPool2D())\n",
        "\n",
        "model.add(Conv2D(64, 3, padding=\"same\", activation=\"relu\"))\n",
        "model.add(MaxPool2D())\n",
        "model.add(Dropout(0.4))\n",
        "\n",
        "model.add(Flatten())\n",
        "model.add(Dense(128,activation=\"relu\"))\n",
        "model.add(Dense(2, activation=\"softmax\"))\n",
        "\n",
        "model.summary()"
      ],
      "metadata": {
        "id": "rEF9zXZq1EMN",
        "colab": {
          "base_uri": "https://localhost:8080/",
          "height": 0
        },
        "outputId": "29fd6cdb-bd2c-4752-a4a4-4ca07cdc625e"
      },
      "execution_count": 13,
      "outputs": [
        {
          "output_type": "stream",
          "name": "stdout",
          "text": [
            "Model: \"sequential\"\n",
            "_________________________________________________________________\n",
            " Layer (type)                Output Shape              Param #   \n",
            "=================================================================\n",
            " conv2d (Conv2D)             (None, 224, 224, 32)      896       \n",
            "                                                                 \n",
            " max_pooling2d (MaxPooling2D  (None, 112, 112, 32)     0         \n",
            " )                                                               \n",
            "                                                                 \n",
            " conv2d_1 (Conv2D)           (None, 112, 112, 32)      9248      \n",
            "                                                                 \n",
            " max_pooling2d_1 (MaxPooling  (None, 56, 56, 32)       0         \n",
            " 2D)                                                             \n",
            "                                                                 \n",
            " conv2d_2 (Conv2D)           (None, 56, 56, 64)        18496     \n",
            "                                                                 \n",
            " max_pooling2d_2 (MaxPooling  (None, 28, 28, 64)       0         \n",
            " 2D)                                                             \n",
            "                                                                 \n",
            " dropout (Dropout)           (None, 28, 28, 64)        0         \n",
            "                                                                 \n",
            " flatten (Flatten)           (None, 50176)             0         \n",
            "                                                                 \n",
            " dense (Dense)               (None, 128)               6422656   \n",
            "                                                                 \n",
            " dense_1 (Dense)             (None, 2)                 258       \n",
            "                                                                 \n",
            "=================================================================\n",
            "Total params: 6,451,554\n",
            "Trainable params: 6,451,554\n",
            "Non-trainable params: 0\n",
            "_________________________________________________________________\n"
          ]
        }
      ]
    },
    {
      "cell_type": "code",
      "source": [
        "opt = Adam(lr=0.000001)\n",
        "model.compile(optimizer = opt , loss = tf.keras.losses.SparseCategoricalCrossentropy(from_logits=True) , metrics = ['accuracy'])\n"
      ],
      "metadata": {
        "id": "jDLYzkE41Je1"
      },
      "execution_count": null,
      "outputs": []
    },
    {
      "cell_type": "code",
      "source": [
        "history = model.fit(x_train,y_train,epochs = 1 ,validation_data = (x_val, y_val))\n"
      ],
      "metadata": {
        "id": "omg33vfp1MZe",
        "colab": {
          "base_uri": "https://localhost:8080/",
          "height": 0
        },
        "outputId": "ed98aac1-e744-40ce-9008-433161047eab"
      },
      "execution_count": 15,
      "outputs": [
        {
          "output_type": "stream",
          "name": "stderr",
          "text": [
            "/usr/local/lib/python3.7/dist-packages/tensorflow/python/util/dispatch.py:1082: UserWarning: \"`sparse_categorical_crossentropy` received `from_logits=True`, but the `output` argument was produced by a sigmoid or softmax activation and thus does not represent logits. Was this intended?\"\n",
            "  return dispatch_target(*args, **kwargs)\n"
          ]
        },
        {
          "output_type": "stream",
          "name": "stdout",
          "text": [
            "77/77 [==============================] - 164s 2s/step - loss: 0.6940 - accuracy: 0.5135 - val_loss: 0.6856 - val_accuracy: 0.5738\n"
          ]
        }
      ]
    },
    {
      "cell_type": "code",
      "source": [
        "acc = history.history['accuracy']\n",
        "val_acc = history.history['val_accuracy']\n",
        "loss = history.history['loss']\n",
        "val_loss = history.history['val_loss']\n",
        "\n",
        "epochs_range = range(1)\n",
        "\n",
        "plt.figure(figsize=(15, 15))\n",
        "plt.subplot(2, 2, 1)\n",
        "plt.plot(epochs_range, acc, label='Training Accuracy')\n",
        "plt.plot(epochs_range, val_acc, label='Validation Accuracy')\n",
        "plt.legend(loc='lower right')\n",
        "plt.title('Training and Validation Accuracy')\n",
        "\n",
        "plt.subplot(2, 2, 2)\n",
        "plt.plot(epochs_range, loss, label='Training Loss')\n",
        "plt.plot(epochs_range, val_loss, label='Validation Loss')\n",
        "plt.legend(loc='upper right')\n",
        "plt.title('Training and Validation Loss')\n",
        "plt.show()"
      ],
      "metadata": {
        "id": "mTIHKrU91POP",
        "colab": {
          "base_uri": "https://localhost:8080/",
          "height": 435
        },
        "outputId": "b6d438e8-0690-4a3e-b941-f2a43742d769"
      },
      "execution_count": 16,
      "outputs": [
        {
          "output_type": "display_data",
          "data": {
            "text/plain": [
              "<Figure size 1080x1080 with 2 Axes>"
            ],
            "image/png": "[encoded data removed]"
          },
          "metadata": {
            "needs_background": "light"
          }
        }
      ]
    },
    {
      "cell_type": "code",
      "source": [
        "predictions = model.predict(x_val)\n",
        "\n",
        "new_predictions = []\n",
        "for i in range(610):\n",
        "  if(predictions[i][0] > predictions[i][1]):\n",
        "    new_predictions.append(0) \n",
        "  else:  \n",
        "    new_predictions.append(1)\n",
        "\n",
        "predictions = np.array(new_predictions)\n",
        "\n",
        "print(predictions.shape)\n",
        "print(y_val.shape)\n",
        "\n",
        "print(classification_report(y_val, new_predictions, target_names = ['Rugby (Class 0)','Soccer (Class 1)']))\n"
      ],
      "metadata": {
        "id": "LKTzxJX91Vy_",
        "colab": {
          "base_uri": "https://localhost:8080/",
          "height": 0
        },
        "outputId": "48c98f2b-dd38-4165-bb43-2b54e111c91e"
      },
      "execution_count": 17,
      "outputs": [
        {
          "output_type": "stream",
          "name": "stdout",
          "text": [
            "20/20 [==============================] - 10s 465ms/step\n",
            "(610,)\n",
            "(610,)\n",
            "                  precision    recall  f1-score   support\n",
            "\n",
            " Rugby (Class 0)       0.59      0.47      0.52       305\n",
            "Soccer (Class 1)       0.56      0.68      0.62       305\n",
            "\n",
            "        accuracy                           0.57       610\n",
            "       macro avg       0.58      0.57      0.57       610\n",
            "    weighted avg       0.58      0.57      0.57       610\n",
            "\n"
          ]
        }
      ]
    },
    {
      "cell_type": "markdown",
      "source": [
        "\n",
        "\n",
        "**Testing**"
      ],
      "metadata": {
        "id": "IX0z8T5h2Wlt"
      }
    },
    {
      "cell_type": "code",
      "source": [
        "for i in range(0,20):\n",
        "  try:\n",
        "    assert predictions[i] == y_val[i]\n",
        "    print('test Passesd')\n",
        "  except AssertionError:\n",
        "    print()\n",
        "    print('Testing Failed')\n",
        "    print('Predicted: ',predictions[i])\n",
        "    print('True Value: ',y_val[i])\n",
        "    print()"
      ],
      "metadata": {
        "id": "gTnZiqn62ZEC",
        "colab": {
          "base_uri": "https://localhost:8080/",
          "height": 0
        },
        "outputId": "c89055ff-0988-4714-a078-2f97e456bd06"
      },
      "execution_count": 18,
      "outputs": [
        {
          "output_type": "stream",
          "name": "stdout",
          "text": [
            "test Passesd\n",
            "\n",
            "Testing Failed\n",
            "Predicted:  1\n",
            "True Value:  0\n",
            "\n",
            "\n",
            "Testing Failed\n",
            "Predicted:  1\n",
            "True Value:  0\n",
            "\n",
            "test Passesd\n",
            "test Passesd\n",
            "\n",
            "Testing Failed\n",
            "Predicted:  1\n",
            "True Value:  0\n",
            "\n",
            "\n",
            "Testing Failed\n",
            "Predicted:  1\n",
            "True Value:  0\n",
            "\n",
            "\n",
            "Testing Failed\n",
            "Predicted:  1\n",
            "True Value:  0\n",
            "\n",
            "\n",
            "Testing Failed\n",
            "Predicted:  1\n",
            "True Value:  0\n",
            "\n",
            "\n",
            "Testing Failed\n",
            "Predicted:  1\n",
            "True Value:  0\n",
            "\n",
            "\n",
            "Testing Failed\n",
            "Predicted:  1\n",
            "True Value:  0\n",
            "\n",
            "\n",
            "Testing Failed\n",
            "Predicted:  1\n",
            "True Value:  0\n",
            "\n",
            "\n",
            "Testing Failed\n",
            "Predicted:  1\n",
            "True Value:  0\n",
            "\n",
            "test Passesd\n",
            "test Passesd\n",
            "test Passesd\n",
            "\n",
            "Testing Failed\n",
            "Predicted:  1\n",
            "True Value:  0\n",
            "\n",
            "test Passesd\n",
            "\n",
            "Testing Failed\n",
            "Predicted:  1\n",
            "True Value:  0\n",
            "\n",
            "test Passesd\n"
          ]
        }
      ]
    }
  ]
}