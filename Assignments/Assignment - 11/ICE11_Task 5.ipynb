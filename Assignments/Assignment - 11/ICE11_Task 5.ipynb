{
 "cells": [
  {
   "cell_type": "markdown",
   "id": "ac10d1b9",
   "metadata": {},
   "source": [
    "# Detecting Vehicle Using Webcam"
   ]
  },
  {
   "cell_type": "code",
   "execution_count": 2,
   "id": "7abbd2da",
   "metadata": {},
   "outputs": [
    {
     "name": "stdout",
     "output_type": "stream",
     "text": [
      "Requirement already satisfied: opencv-python in c:\\users\\badda\\anaconda3\\lib\\site-packages (4.6.0.66)\n",
      "Requirement already satisfied: numpy>=1.14.5 in c:\\users\\badda\\anaconda3\\lib\\site-packages (from opencv-python) (1.20.3)\n",
      "Note: you may need to restart the kernel to use updated packages.\n"
     ]
    }
   ],
   "source": [
    "pip install opencv-python"
   ]
  },
  {
   "cell_type": "code",
   "execution_count": 2,
   "id": "d98d89ac",
   "metadata": {},
   "outputs": [
    {
     "data": {
      "text/plain": [
       "-1"
      ]
     },
     "execution_count": 2,
     "metadata": {},
     "output_type": "execute_result"
    }
   ],
   "source": [
    "import cv2\n",
    "  \n",
    "stream = cv2.VideoCapture('traffic_footage.avi')\n",
    "vehicle_cascade = cv2.CascadeClassifier('vehicle_classifier.xml')\n",
    "  \n",
    "\n",
    "while True:\n",
    "    \n",
    "    ret, frames = stream.read()\n",
    "    gray = cv2.cvtColor(frames, cv2.COLOR_BGR2GRAY)\n",
    "      \n",
    "  \n",
    "    cars = vehicle_cascade.detectMultiScale(gray, 1.1, 1)\n",
    "      \n",
    "    for (x,y,w,h) in cars:\n",
    "        cv2.rectangle(frames,(x,y),(x+w,y+h),(0,0,255),2)\n",
    "  \n",
    "    cv2.imshow('video2', frames)\n",
    "        \n",
    "    key = cv2.waitKey(1) & 0xFF\n",
    "    if key == ord(\"q\"):    # Press q to break out\n",
    "        break   \n",
    "        \n",
    "# cleanup\n",
    "stream.release()\n",
    "cv2.waitKey(1)\n",
    "cv2.destroyAllWindows()\n",
    "cv2.waitKey(1)\n"
   ]
  },
  {
   "cell_type": "markdown",
   "id": "227c3050",
   "metadata": {},
   "source": [
    "# Vehicle detection using CNN(Deep Learning Model)"
   ]
  },
  {
   "cell_type": "code",
   "execution_count": 12,
   "id": "f72ca228",
   "metadata": {},
   "outputs": [
    {
     "name": "stdout",
     "output_type": "stream",
     "text": [
      "Found 27997 images belonging to 16 classes.\n",
      "Found 27997 images belonging to 16 classes.\n"
     ]
    },
    {
     "data": {
      "text/plain": [
       "{'Ambulance': 0,\n",
       " 'Barge': 1,\n",
       " 'Bicycle': 2,\n",
       " 'Boat': 3,\n",
       " 'Bus': 4,\n",
       " 'Car': 5,\n",
       " 'Cart': 6,\n",
       " 'Helicopter': 7,\n",
       " 'Limousine': 8,\n",
       " 'Motorcycle': 9,\n",
       " 'Segway': 10,\n",
       " 'Snowmobile': 11,\n",
       " 'Tank': 12,\n",
       " 'Taxi': 13,\n",
       " 'Truck': 14,\n",
       " 'Van': 15}"
      ]
     },
     "execution_count": 12,
     "metadata": {},
     "output_type": "execute_result"
    }
   ],
   "source": [
    "# Deep Learning CNN model to recognize vehicle\n",
    "'''This script uses a database of images and creates CNN model on top of it to test\n",
    "   if the given image is recognized correctly or not'''\n",
    "\n",
    "'''####### IMAGE PRE-PROCESSING for TRAINING and TESTING data #######'''\n",
    "\n",
    "# Specifying the folder where images are present\n",
    "TrainingImagePath='C:/Users/badda/Downloads/Vehicle Images/Final Training Images'\n",
    "\n",
    "from keras.preprocessing.image import ImageDataGenerator\n",
    "\n",
    "\n",
    "# Defining pre-processing transformations on raw images of training data\n",
    "# These hyper parameters helps to generate slightly twisted versions\n",
    "# of the original image, which leads to a better model, since it learns\n",
    "# on the good and bad mix of images\n",
    "train_datagen = ImageDataGenerator(\n",
    "        shear_range=0.1,\n",
    "        zoom_range=0.1,\n",
    "        horizontal_flip=True)\n",
    "\n",
    "# Defining pre-processing transformations on raw images of testing data\n",
    "# No transformations are done on the testing images\n",
    "test_datagen = ImageDataGenerator()\n",
    "\n",
    "# Generating the Training Data\n",
    "training_set = train_datagen.flow_from_directory(\n",
    "        TrainingImagePath,\n",
    "        target_size=(64, 64),\n",
    "        batch_size=32,\n",
    "        class_mode='categorical')\n",
    "\n",
    "\n",
    "# Generating the Testing Data\n",
    "test_set = test_datagen.flow_from_directory(\n",
    "        TrainingImagePath,\n",
    "        target_size=(64, 64),\n",
    "        batch_size=32,\n",
    "        class_mode='categorical')\n",
    "\n",
    "# Printing class labels for each vehicle\n",
    "test_set.class_indices"
   ]
  },
  {
   "cell_type": "code",
   "execution_count": 13,
   "id": "08de4dd5",
   "metadata": {},
   "outputs": [
    {
     "name": "stdout",
     "output_type": "stream",
     "text": [
      "Mapping of vehicles and its ID {0: 'Ambulance', 1: 'Barge', 2: 'Bicycle', 3: 'Boat', 4: 'Bus', 5: 'Car', 6: 'Cart', 7: 'Helicopter', 8: 'Limousine', 9: 'Motorcycle', 10: 'Segway', 11: 'Snowmobile', 12: 'Tank', 13: 'Taxi', 14: 'Truck', 15: 'Van'}\n",
      "\n",
      " The Number of output neurons:  16\n"
     ]
    }
   ],
   "source": [
    "'''############ Creating lookup table for all vehicles ############'''\n",
    "# class_indices have the numeric tag for each vehicles\n",
    "TrainClasses=training_set.class_indices\n",
    "\n",
    "# Storing the vehicles and the numeric tag for future reference\n",
    "ResultMap={}\n",
    "for faceValue,faceName in zip(TrainClasses.values(),TrainClasses.keys()):\n",
    "    ResultMap[faceValue]=faceName\n",
    "\n",
    "# Saving the vehicles map for future reference\n",
    "import pickle\n",
    "with open(\"ResultsMap.pkl\", 'wb') as fileWriteStream:\n",
    "    pickle.dump(ResultMap, fileWriteStream)\n",
    "\n",
    "# The model will give answer as a numeric tag\n",
    "# This mapping will help to get the corresponding vehicles name for it\n",
    "print(\"Mapping of vehicles and its ID\",ResultMap)\n",
    "\n",
    "# The number of neurons for the output layer is equal to the number of vehicles\n",
    "OutputNeurons=len(ResultMap)\n",
    "print('\\n The Number of output neurons: ', OutputNeurons)"
   ]
  },
  {
   "cell_type": "code",
   "execution_count": 14,
   "id": "598ad9c0",
   "metadata": {},
   "outputs": [
    {
     "name": "stderr",
     "output_type": "stream",
     "text": [
      "C:\\Users\\badda\\AppData\\Local\\Temp/ipykernel_100884/3785646586.py:44: UserWarning: `Model.fit_generator` is deprecated and will be removed in a future version. Please use `Model.fit`, which supports generators.\n",
      "  classifier.fit_generator(\n"
     ]
    },
    {
     "name": "stdout",
     "output_type": "stream",
     "text": [
      "Epoch 1/10\n",
      "7/7 [==============================] - 14s 2s/step - loss: 28.1250 - accuracy: 0.2054 - val_loss: 2.7369 - val_accuracy: 0.1969\n",
      "Epoch 2/10\n",
      "7/7 [==============================] - 13s 2s/step - loss: 2.4877 - accuracy: 0.2500 - val_loss: 2.4000 - val_accuracy: 0.2969\n",
      "Epoch 3/10\n",
      "7/7 [==============================] - 12s 2s/step - loss: 2.4862 - accuracy: 0.2946 - val_loss: 2.4479 - val_accuracy: 0.2969\n",
      "Epoch 4/10\n",
      "7/7 [==============================] - 13s 2s/step - loss: 2.5161 - accuracy: 0.2455 - val_loss: 2.4918 - val_accuracy: 0.2594\n",
      "Epoch 5/10\n",
      "7/7 [==============================] - 13s 2s/step - loss: 2.5067 - accuracy: 0.2991 - val_loss: 2.4396 - val_accuracy: 0.2937\n",
      "Epoch 6/10\n",
      "7/7 [==============================] - 12s 2s/step - loss: 2.3581 - accuracy: 0.3393 - val_loss: 2.4279 - val_accuracy: 0.3031\n",
      "Epoch 7/10\n",
      "7/7 [==============================] - 13s 2s/step - loss: 2.3428 - accuracy: 0.2723 - val_loss: 2.4063 - val_accuracy: 0.3219\n",
      "Epoch 8/10\n",
      "7/7 [==============================] - 12s 2s/step - loss: 2.4549 - accuracy: 0.3527 - val_loss: 2.8199 - val_accuracy: 0.3125\n",
      "Epoch 9/10\n",
      "7/7 [==============================] - 13s 2s/step - loss: 2.5807 - accuracy: 0.2768 - val_loss: 2.5001 - val_accuracy: 0.3125\n",
      "Epoch 10/10\n",
      "7/7 [==============================] - 13s 2s/step - loss: 2.5525 - accuracy: 0.3125 - val_loss: 2.4654 - val_accuracy: 0.3438\n",
      "###### Total Time Taken:  2 Minutes ######\n"
     ]
    }
   ],
   "source": [
    "'''######################## Create CNN deep learning model ########################'''\n",
    "from tensorflow.keras.models import Sequential\n",
    "from keras.layers import Convolution2D\n",
    "from keras.layers import MaxPool2D\n",
    "from keras.layers import Flatten\n",
    "from keras.layers import Dense\n",
    "\n",
    "'''Initializing the Convolutional Neural Network'''\n",
    "classifier= Sequential()\n",
    "\n",
    "''' STEP--1 Convolution\n",
    "# Adding the first layer of CNN\n",
    "# we are using the format (64,64,3) because we are using TensorFlow backend\n",
    "# It means 3 matrix of size (64X64) pixels representing Red, Green and Blue components of pixels\n",
    "'''\n",
    "classifier.add(Convolution2D(32, kernel_size=(5, 5), strides=(1, 1), input_shape=(64,64,3), activation='relu'))\n",
    "\n",
    "'''# STEP--2 MAX Pooling'''\n",
    "classifier.add(MaxPool2D(pool_size=(2,2)))\n",
    "\n",
    "'''############## ADDITIONAL LAYER of CONVOLUTION for better accuracy #################'''\n",
    "classifier.add(Convolution2D(64, kernel_size=(5, 5), strides=(1, 1), activation='relu'))\n",
    "\n",
    "classifier.add(MaxPool2D(pool_size=(2,2)))\n",
    "\n",
    "'''# STEP--3 FLattening'''\n",
    "classifier.add(Flatten())\n",
    "\n",
    "'''# STEP--4 Fully Connected Neural Network'''\n",
    "classifier.add(Dense(64, activation='relu'))\n",
    "\n",
    "classifier.add(Dense(OutputNeurons, activation='softmax'))\n",
    "\n",
    "'''# Compiling the CNN'''\n",
    "#classifier.compile(loss='binary_crossentropy', optimizer='adam', metrics=['accuracy'])\n",
    "classifier.compile(loss='categorical_crossentropy', optimizer = 'adam', metrics=[\"accuracy\"])\n",
    "\n",
    "###########################################################\n",
    "import time\n",
    "# Measuring the time taken by the model to train\n",
    "StartTime=time.time()\n",
    "\n",
    "# Starting the model training\n",
    "classifier.fit_generator(\n",
    "                    training_set,\n",
    "                    steps_per_epoch=7,\n",
    "                    epochs=10,\n",
    "                    validation_data=test_set,\n",
    "                    validation_steps=10)\n",
    "\n",
    "EndTime=time.time()\n",
    "print(\"###### Total Time Taken: \", round((EndTime-StartTime)/60), 'Minutes ######')"
   ]
  },
  {
   "cell_type": "code",
   "execution_count": 19,
   "id": "3aa07be2",
   "metadata": {},
   "outputs": [
    {
     "name": "stdout",
     "output_type": "stream",
     "text": [
      "########################################\n",
      "Prediction is:  Boat\n"
     ]
    }
   ],
   "source": [
    "'''########### Making single predictions ###########'''\n",
    "import numpy as np\n",
    "from tensorflow.keras.preprocessing import image\n",
    "\n",
    "ImagePath='C:/Users/badda/Downloads/Vehicle Images/Final Testing Images/Boat/test.jpg'\n",
    "test_image=image.load_img(ImagePath,target_size=(64, 64))\n",
    "test_image=image.img_to_array(test_image)\n",
    "\n",
    "test_image=np.expand_dims(test_image,axis=0)\n",
    "\n",
    "result=classifier.predict(test_image,verbose=0)\n",
    "#print(training_set.class_indices)\n",
    "\n",
    "print('####'*10)\n",
    "print('Prediction is: ',ResultMap[np.argmax(result)])"
   ]
  },
  {
   "cell_type": "code",
   "execution_count": null,
   "id": "09f34295",
   "metadata": {},
   "outputs": [],
   "source": []
  }
 ],
 "metadata": {
  "kernelspec": {
   "display_name": "Python 3 (ipykernel)",
   "language": "python",
   "name": "python3"
  },
  "language_info": {
   "codemirror_mode": {
    "name": "ipython",
    "version": 3
   },
   "file_extension": ".py",
   "mimetype": "text/x-python",
   "name": "python",
   "nbconvert_exporter": "python",
   "pygments_lexer": "ipython3",
   "version": "3.9.7"
  }
 },
 "nbformat": 4,
 "nbformat_minor": 5
}
