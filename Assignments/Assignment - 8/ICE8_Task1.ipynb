{
  "cells": [
    {
      "cell_type": "markdown",
      "id": "0d2f3932",
      "metadata": {
        "id": "0d2f3932"
      },
      "source": [
        "# Machine Learning on streaming data using Kafka"
      ]
    },
    {
      "cell_type": "code",
      "source": [
        "!pip install tensorflow-io==0.17.0\n",
        "!pip install tensorflow==2.4.0\n",
        "!pip install kafka-python"
      ],
      "metadata": {
        "id": "p7R8wlhNTpvb"
      },
      "id": "p7R8wlhNTpvb",
      "execution_count": null,
      "outputs": []
    },
    {
      "cell_type": "code",
      "source": [
        "!tar -xzf kafka_2.13-2.7.2.tgz"
      ],
      "metadata": {
        "id": "KkxXbJOiAUH7"
      },
      "id": "KkxXbJOiAUH7",
      "execution_count": 3,
      "outputs": []
    },
    {
      "cell_type": "code",
      "source": [
        "!./kafka_2.13-2.7.2/bin/zookeeper-server-start.sh -daemon ./kafka_2.13-2.7.2/config/zookeeper.properties\n",
        "!./kafka_2.13-2.7.2/bin/kafka-server-start.sh -daemon ./kafka_2.13-2.7.2/config/server.properties\n",
        "!echo \"Waiting for 10 secs until kafka and zookeeper services are up and running\"\n",
        "!sleep 10"
      ],
      "metadata": {
        "colab": {
          "base_uri": "https://localhost:8080/",
          "height": 0
        },
        "id": "_U4zp5dYAULL",
        "outputId": "8cb96307-b0c8-45e2-d213-9bf88a64df34"
      },
      "id": "_U4zp5dYAULL",
      "execution_count": 4,
      "outputs": [
        {
          "output_type": "stream",
          "name": "stdout",
          "text": [
            "Waiting for 10 secs until kafka and zookeeper services are up and running\n"
          ]
        }
      ]
    },
    {
      "cell_type": "code",
      "source": [
        "!./kafka_2.13-2.7.2/bin/kafka-topics.sh --create --bootstrap-server 127.0.0.1:9092 --replication-factor 1 --partitions 1 --topic susy-train\n",
        "!./kafka_2.13-2.7.2/bin/kafka-topics.sh --create --bootstrap-server 127.0.0.1:9092 --replication-factor 1 --partitions 2 --topic susy-test\n"
      ],
      "metadata": {
        "colab": {
          "base_uri": "https://localhost:8080/",
          "height": 0
        },
        "id": "t0yz4-79T1ZC",
        "outputId": "9bf2a397-9d9e-4792-e545-716a86190a5d"
      },
      "id": "t0yz4-79T1ZC",
      "execution_count": 5,
      "outputs": [
        {
          "output_type": "stream",
          "name": "stdout",
          "text": [
            "Created topic susy-train.\n",
            "Created topic susy-test.\n"
          ]
        }
      ]
    },
    {
      "cell_type": "code",
      "source": [
        "!./kafka_2.13-2.7.2/bin/kafka-topics.sh --describe --bootstrap-server 127.0.0.1:9092 --topic susy-train\n",
        "!./kafka_2.13-2.7.2/bin/kafka-topics.sh --describe --bootstrap-server 127.0.0.1:9092 --topic susy-test\n"
      ],
      "metadata": {
        "colab": {
          "base_uri": "https://localhost:8080/",
          "height": 0
        },
        "id": "xYg9yf6RT1ke",
        "outputId": "96b36d95-04ec-458e-ee67-4d2f59320722"
      },
      "id": "xYg9yf6RT1ke",
      "execution_count": 6,
      "outputs": [
        {
          "output_type": "stream",
          "name": "stdout",
          "text": [
            "Topic: susy-train\tPartitionCount: 1\tReplicationFactor: 1\tConfigs: segment.bytes=1073741824\n",
            "\tTopic: susy-train\tPartition: 0\tLeader: 0\tReplicas: 0\tIsr: 0\n",
            "Topic: susy-test\tPartitionCount: 2\tReplicationFactor: 1\tConfigs: segment.bytes=1073741824\n",
            "\tTopic: susy-test\tPartition: 0\tLeader: 0\tReplicas: 0\tIsr: 0\n",
            "\tTopic: susy-test\tPartition: 1\tLeader: 0\tReplicas: 0\tIsr: 0\n"
          ]
        }
      ]
    },
    {
      "cell_type": "code",
      "execution_count": 7,
      "id": "8f9156b2",
      "metadata": {
        "id": "8f9156b2"
      },
      "outputs": [],
      "source": [
        "import os\n",
        "from datetime import datetime\n",
        "import time\n",
        "import threading\n",
        "import json\n",
        "from kafka import KafkaProducer\n",
        "from kafka.errors import KafkaError\n",
        "from sklearn.model_selection import train_test_split\n",
        "import pandas as pd\n",
        "import tensorflow as tf\n",
        "import tensorflow_io as tfio\n"
      ]
    },
    {
      "cell_type": "code",
      "source": [
        "print(\"tensorflow-io version: {}\".format(tfio.__version__))\n",
        "print(\"tensorflow version: {}\".format(tf.__version__))"
      ],
      "metadata": {
        "colab": {
          "base_uri": "https://localhost:8080/",
          "height": 0
        },
        "id": "piUxTi_0A-ep",
        "outputId": "a70a16d6-04c7-4945-ce54-d46f04e692eb"
      },
      "id": "piUxTi_0A-ep",
      "execution_count": 8,
      "outputs": [
        {
          "output_type": "stream",
          "name": "stdout",
          "text": [
            "tensorflow-io version: 0.17.0\n",
            "tensorflow version: 2.4.0\n"
          ]
        }
      ]
    },
    {
      "cell_type": "code",
      "execution_count": 9,
      "id": "ad9bdf92",
      "metadata": {
        "id": "ad9bdf92"
      },
      "outputs": [],
      "source": [
        "COLUMNS = [\n",
        "          #  labels\n",
        "           'class',\n",
        "          #  low-level features\n",
        "           'lepton_1_pT',\n",
        "           'lepton_1_eta',\n",
        "           'lepton_1_phi',\n",
        "           'lepton_2_pT',\n",
        "           'lepton_2_eta',\n",
        "           'lepton_2_phi',\n",
        "           'missing_energy_magnitude',\n",
        "           'missing_energy_phi',\n",
        "          #  high-level derived features\n",
        "           'MET_rel',\n",
        "           'axial_MET',\n",
        "           'M_R',\n",
        "           'M_TR_2',\n",
        "           'R',\n",
        "           'MT2',\n",
        "           'S_R',\n",
        "           'M_Delta_R',\n",
        "           'dPhi_r_b',\n",
        "           'cos(theta_r1)'\n",
        "           ]"
      ]
    },
    {
      "cell_type": "code",
      "execution_count": 10,
      "id": "1a42ad63",
      "metadata": {
        "colab": {
          "base_uri": "https://localhost:8080/",
          "height": 270
        },
        "id": "1a42ad63",
        "outputId": "565c2107-25cd-47cc-ec17-2a49f27b9510"
      },
      "outputs": [
        {
          "output_type": "execute_result",
          "data": {
            "text/plain": [
              "   class  lepton_1_pT  lepton_1_eta  lepton_1_phi  lepton_2_pT  lepton_2_eta  \\\n",
              "0    0.0     0.972861      0.653855      1.176225     1.157156     -1.739873   \n",
              "1    1.0     1.667973      0.064191     -1.225171     0.506102     -0.338939   \n",
              "2    1.0     0.444840     -0.134298     -0.709972     0.451719     -1.613871   \n",
              "3    1.0     0.381256     -0.976145      0.693152     0.448959      0.891753   \n",
              "4    1.0     1.309996     -0.690089     -0.676259     1.589283     -0.693326   \n",
              "\n",
              "   lepton_2_phi  missing_energy_magnitude  missing_energy_phi   MET_rel  \\\n",
              "0     -0.874309                  0.567765           -0.175000  0.810061   \n",
              "1      1.672543                  3.475464           -1.219136  0.012955   \n",
              "2     -0.768661                  1.219918            0.504026  1.831248   \n",
              "3     -0.677328                  2.033060            1.533041  3.046260   \n",
              "4      0.622907                  1.087562           -0.381742  0.589204   \n",
              "\n",
              "   axial_MET       M_R    M_TR_2         R       MT2       S_R  M_Delta_R  \\\n",
              "0  -0.252552  1.921887  0.889637  0.410772  1.145621  1.932632   0.994464   \n",
              "1   3.775174  1.045977  0.568051  0.481928  0.000000  0.448410   0.205356   \n",
              "2  -0.431385  0.526283  0.941514  1.587535  2.024308  0.603498   1.562374   \n",
              "3  -1.005285  0.569386  1.015211  1.582217  1.551914  0.761215   1.715464   \n",
              "4   1.365479  1.179295  0.968218  0.728563  0.000000  1.083158   0.043429   \n",
              "\n",
              "   dPhi_r_b  cos(theta_r1)  \n",
              "0  1.367815       0.040714  \n",
              "1  1.321893       0.377584  \n",
              "2  1.135454       0.180910  \n",
              "3  1.492257       0.090719  \n",
              "4  1.154854       0.094859  "
            ],
            "text/html": [
              "\n",
              "  <div id=\"df-cc89511a-fd7e-46e0-b81b-af4258b25afd\">\n",
              "    <div class=\"colab-df-container\">\n",
              "      <div>\n",
              "<style scoped>\n",
              "    .dataframe tbody tr th:only-of-type {\n",
              "        vertical-align: middle;\n",
              "    }\n",
              "\n",
              "    .dataframe tbody tr th {\n",
              "        vertical-align: top;\n",
              "    }\n",
              "\n",
              "    .dataframe thead th {\n",
              "        text-align: right;\n",
              "    }\n",
              "</style>\n",
              "<table border=\"1\" class=\"dataframe\">\n",
              "  <thead>\n",
              "    <tr style=\"text-align: right;\">\n",
              "      <th></th>\n",
              "      <th>class</th>\n",
              "      <th>lepton_1_pT</th>\n",
              "      <th>lepton_1_eta</th>\n",
              "      <th>lepton_1_phi</th>\n",
              "      <th>lepton_2_pT</th>\n",
              "      <th>lepton_2_eta</th>\n",
              "      <th>lepton_2_phi</th>\n",
              "      <th>missing_energy_magnitude</th>\n",
              "      <th>missing_energy_phi</th>\n",
              "      <th>MET_rel</th>\n",
              "      <th>axial_MET</th>\n",
              "      <th>M_R</th>\n",
              "      <th>M_TR_2</th>\n",
              "      <th>R</th>\n",
              "      <th>MT2</th>\n",
              "      <th>S_R</th>\n",
              "      <th>M_Delta_R</th>\n",
              "      <th>dPhi_r_b</th>\n",
              "      <th>cos(theta_r1)</th>\n",
              "    </tr>\n",
              "  </thead>\n",
              "  <tbody>\n",
              "    <tr>\n",
              "      <th>0</th>\n",
              "      <td>0.0</td>\n",
              "      <td>0.972861</td>\n",
              "      <td>0.653855</td>\n",
              "      <td>1.176225</td>\n",
              "      <td>1.157156</td>\n",
              "      <td>-1.739873</td>\n",
              "      <td>-0.874309</td>\n",
              "      <td>0.567765</td>\n",
              "      <td>-0.175000</td>\n",
              "      <td>0.810061</td>\n",
              "      <td>-0.252552</td>\n",
              "      <td>1.921887</td>\n",
              "      <td>0.889637</td>\n",
              "      <td>0.410772</td>\n",
              "      <td>1.145621</td>\n",
              "      <td>1.932632</td>\n",
              "      <td>0.994464</td>\n",
              "      <td>1.367815</td>\n",
              "      <td>0.040714</td>\n",
              "    </tr>\n",
              "    <tr>\n",
              "      <th>1</th>\n",
              "      <td>1.0</td>\n",
              "      <td>1.667973</td>\n",
              "      <td>0.064191</td>\n",
              "      <td>-1.225171</td>\n",
              "      <td>0.506102</td>\n",
              "      <td>-0.338939</td>\n",
              "      <td>1.672543</td>\n",
              "      <td>3.475464</td>\n",
              "      <td>-1.219136</td>\n",
              "      <td>0.012955</td>\n",
              "      <td>3.775174</td>\n",
              "      <td>1.045977</td>\n",
              "      <td>0.568051</td>\n",
              "      <td>0.481928</td>\n",
              "      <td>0.000000</td>\n",
              "      <td>0.448410</td>\n",
              "      <td>0.205356</td>\n",
              "      <td>1.321893</td>\n",
              "      <td>0.377584</td>\n",
              "    </tr>\n",
              "    <tr>\n",
              "      <th>2</th>\n",
              "      <td>1.0</td>\n",
              "      <td>0.444840</td>\n",
              "      <td>-0.134298</td>\n",
              "      <td>-0.709972</td>\n",
              "      <td>0.451719</td>\n",
              "      <td>-1.613871</td>\n",
              "      <td>-0.768661</td>\n",
              "      <td>1.219918</td>\n",
              "      <td>0.504026</td>\n",
              "      <td>1.831248</td>\n",
              "      <td>-0.431385</td>\n",
              "      <td>0.526283</td>\n",
              "      <td>0.941514</td>\n",
              "      <td>1.587535</td>\n",
              "      <td>2.024308</td>\n",
              "      <td>0.603498</td>\n",
              "      <td>1.562374</td>\n",
              "      <td>1.135454</td>\n",
              "      <td>0.180910</td>\n",
              "    </tr>\n",
              "    <tr>\n",
              "      <th>3</th>\n",
              "      <td>1.0</td>\n",
              "      <td>0.381256</td>\n",
              "      <td>-0.976145</td>\n",
              "      <td>0.693152</td>\n",
              "      <td>0.448959</td>\n",
              "      <td>0.891753</td>\n",
              "      <td>-0.677328</td>\n",
              "      <td>2.033060</td>\n",
              "      <td>1.533041</td>\n",
              "      <td>3.046260</td>\n",
              "      <td>-1.005285</td>\n",
              "      <td>0.569386</td>\n",
              "      <td>1.015211</td>\n",
              "      <td>1.582217</td>\n",
              "      <td>1.551914</td>\n",
              "      <td>0.761215</td>\n",
              "      <td>1.715464</td>\n",
              "      <td>1.492257</td>\n",
              "      <td>0.090719</td>\n",
              "    </tr>\n",
              "    <tr>\n",
              "      <th>4</th>\n",
              "      <td>1.0</td>\n",
              "      <td>1.309996</td>\n",
              "      <td>-0.690089</td>\n",
              "      <td>-0.676259</td>\n",
              "      <td>1.589283</td>\n",
              "      <td>-0.693326</td>\n",
              "      <td>0.622907</td>\n",
              "      <td>1.087562</td>\n",
              "      <td>-0.381742</td>\n",
              "      <td>0.589204</td>\n",
              "      <td>1.365479</td>\n",
              "      <td>1.179295</td>\n",
              "      <td>0.968218</td>\n",
              "      <td>0.728563</td>\n",
              "      <td>0.000000</td>\n",
              "      <td>1.083158</td>\n",
              "      <td>0.043429</td>\n",
              "      <td>1.154854</td>\n",
              "      <td>0.094859</td>\n",
              "    </tr>\n",
              "  </tbody>\n",
              "</table>\n",
              "</div>\n",
              "      <button class=\"colab-df-convert\" onclick=\"convertToInteractive('df-cc89511a-fd7e-46e0-b81b-af4258b25afd')\"\n",
              "              title=\"Convert this dataframe to an interactive table.\"\n",
              "              style=\"display:none;\">\n",
              "        \n",
              "  <svg xmlns=\"http://www.w3.org/2000/svg\" height=\"24px\"viewBox=\"0 0 24 24\"\n",
              "       width=\"24px\">\n",
              "    <path d=\"M0 0h24v24H0V0z\" fill=\"none\"/>\n",
              "    <path d=\"M18.56 5.44l.94 2.06.94-2.06 2.06-.94-2.06-.94-.94-2.06-.94 2.06-2.06.94zm-11 1L8.5 8.5l.94-2.06 2.06-.94-2.06-.94L8.5 2.5l-.94 2.06-2.06.94zm10 10l.94 2.06.94-2.06 2.06-.94-2.06-.94-.94-2.06-.94 2.06-2.06.94z\"/><path d=\"M17.41 7.96l-1.37-1.37c-.4-.4-.92-.59-1.43-.59-.52 0-1.04.2-1.43.59L10.3 9.45l-7.72 7.72c-.78.78-.78 2.05 0 2.83L4 21.41c.39.39.9.59 1.41.59.51 0 1.02-.2 1.41-.59l7.78-7.78 2.81-2.81c.8-.78.8-2.07 0-2.86zM5.41 20L4 18.59l7.72-7.72 1.47 1.35L5.41 20z\"/>\n",
              "  </svg>\n",
              "      </button>\n",
              "      \n",
              "  <style>\n",
              "    .colab-df-container {\n",
              "      display:flex;\n",
              "      flex-wrap:wrap;\n",
              "      gap: 12px;\n",
              "    }\n",
              "\n",
              "    .colab-df-convert {\n",
              "      background-color: #E8F0FE;\n",
              "      border: none;\n",
              "      border-radius: 50%;\n",
              "      cursor: pointer;\n",
              "      display: none;\n",
              "      fill: #1967D2;\n",
              "      height: 32px;\n",
              "      padding: 0 0 0 0;\n",
              "      width: 32px;\n",
              "    }\n",
              "\n",
              "    .colab-df-convert:hover {\n",
              "      background-color: #E2EBFA;\n",
              "      box-shadow: 0px 1px 2px rgba(60, 64, 67, 0.3), 0px 1px 3px 1px rgba(60, 64, 67, 0.15);\n",
              "      fill: #174EA6;\n",
              "    }\n",
              "\n",
              "    [theme=dark] .colab-df-convert {\n",
              "      background-color: #3B4455;\n",
              "      fill: #D2E3FC;\n",
              "    }\n",
              "\n",
              "    [theme=dark] .colab-df-convert:hover {\n",
              "      background-color: #434B5C;\n",
              "      box-shadow: 0px 1px 3px 1px rgba(0, 0, 0, 0.15);\n",
              "      filter: drop-shadow(0px 1px 2px rgba(0, 0, 0, 0.3));\n",
              "      fill: #FFFFFF;\n",
              "    }\n",
              "  </style>\n",
              "\n",
              "      <script>\n",
              "        const buttonEl =\n",
              "          document.querySelector('#df-cc89511a-fd7e-46e0-b81b-af4258b25afd button.colab-df-convert');\n",
              "        buttonEl.style.display =\n",
              "          google.colab.kernel.accessAllowed ? 'block' : 'none';\n",
              "\n",
              "        async function convertToInteractive(key) {\n",
              "          const element = document.querySelector('#df-cc89511a-fd7e-46e0-b81b-af4258b25afd');\n",
              "          const dataTable =\n",
              "            await google.colab.kernel.invokeFunction('convertToInteractive',\n",
              "                                                     [key], {});\n",
              "          if (!dataTable) return;\n",
              "\n",
              "          const docLinkHtml = 'Like what you see? Visit the ' +\n",
              "            '<a target=\"_blank\" href=https://colab.research.google.com/notebooks/data_table.ipynb>data table notebook</a>'\n",
              "            + ' to learn more about interactive tables.';\n",
              "          element.innerHTML = '';\n",
              "          dataTable['output_type'] = 'display_data';\n",
              "          await google.colab.output.renderOutput(dataTable, element);\n",
              "          const docLink = document.createElement('div');\n",
              "          docLink.innerHTML = docLinkHtml;\n",
              "          element.appendChild(docLink);\n",
              "        }\n",
              "      </script>\n",
              "    </div>\n",
              "  </div>\n",
              "  "
            ]
          },
          "metadata": {},
          "execution_count": 10
        }
      ],
      "source": [
        "susy_iterator = pd.read_csv('SUSY.csv.gz', header=None, names=COLUMNS, chunksize=100000)\n",
        "susy_df = next(susy_iterator)\n",
        "susy_df.head()\n"
      ]
    },
    {
      "cell_type": "code",
      "execution_count": 11,
      "id": "bc860fab",
      "metadata": {
        "colab": {
          "base_uri": "https://localhost:8080/",
          "height": 0
        },
        "id": "bc860fab",
        "outputId": "59f55c33-984f-49e5-91ba-23ef601fe6ec"
      },
      "outputs": [
        {
          "output_type": "execute_result",
          "data": {
            "text/plain": [
              "(100000, 19)"
            ]
          },
          "metadata": {},
          "execution_count": 11
        }
      ],
      "source": [
        "# Number of datapoints and columns\n",
        "len(susy_df), len(susy_df.columns)"
      ]
    },
    {
      "cell_type": "code",
      "execution_count": 12,
      "id": "d7a331b6",
      "metadata": {
        "colab": {
          "base_uri": "https://localhost:8080/",
          "height": 0
        },
        "id": "d7a331b6",
        "outputId": "925d7233-c0bf-47df-958f-d9780dba70c8"
      },
      "outputs": [
        {
          "output_type": "execute_result",
          "data": {
            "text/plain": [
              "(54025, 45975)"
            ]
          },
          "metadata": {},
          "execution_count": 12
        }
      ],
      "source": [
        "# Number of datapoints belonging to each class (0: background noise, 1: signal)\n",
        "len(susy_df[susy_df[\"class\"]==0]), len(susy_df[susy_df[\"class\"]==1])"
      ]
    },
    {
      "cell_type": "code",
      "execution_count": 13,
      "id": "05e75979",
      "metadata": {
        "colab": {
          "base_uri": "https://localhost:8080/",
          "height": 0
        },
        "id": "05e75979",
        "outputId": "73dedfb6-337e-4e26-ab28-8ec59e2eed2d"
      },
      "outputs": [
        {
          "output_type": "stream",
          "name": "stdout",
          "text": [
            "Number of training samples:  60000\n",
            "Number of testing sample:  40000\n"
          ]
        }
      ],
      "source": [
        "# Split the dataset\n",
        "\n",
        "train_df, test_df = train_test_split(susy_df, test_size=0.4, shuffle=True)\n",
        "print(\"Number of training samples: \",len(train_df))\n",
        "print(\"Number of testing sample: \",len(test_df))\n",
        "\n",
        "x_train_df = train_df.drop([\"class\"], axis=1)\n",
        "y_train_df = train_df[\"class\"]\n",
        "\n",
        "x_test_df = test_df.drop([\"class\"], axis=1)\n",
        "y_test_df = test_df[\"class\"]\n",
        "\n",
        "# The labels are set as the kafka message keys so as to store data\n",
        "# in multiple-partitions. Thus, enabling efficient data retrieval\n",
        "# using the consumer groups.\n",
        "x_train = list(filter(None, x_train_df.to_csv(index=False).split(\"\\n\")[1:]))\n",
        "y_train = list(filter(None, y_train_df.to_csv(index=False).split(\"\\n\")[1:]))\n",
        "\n",
        "x_test = list(filter(None, x_test_df.to_csv(index=False).split(\"\\n\")[1:]))\n",
        "y_test = list(filter(None, y_test_df.to_csv(index=False).split(\"\\n\")[1:]))"
      ]
    },
    {
      "cell_type": "code",
      "execution_count": 14,
      "id": "19d3751b",
      "metadata": {
        "colab": {
          "base_uri": "https://localhost:8080/",
          "height": 0
        },
        "id": "19d3751b",
        "outputId": "ca62b78b-ea99-44a6-cb6a-25ab1d1f0160"
      },
      "outputs": [
        {
          "output_type": "execute_result",
          "data": {
            "text/plain": [
              "(60000, 60000, 40000, 40000)"
            ]
          },
          "metadata": {},
          "execution_count": 14
        }
      ],
      "source": [
        "NUM_COLUMNS = len(x_train_df.columns)\n",
        "len(x_train), len(y_train), len(x_test), len(y_test)"
      ]
    },
    {
      "cell_type": "code",
      "execution_count": 15,
      "id": "3997eb8c",
      "metadata": {
        "colab": {
          "base_uri": "https://localhost:8080/",
          "height": 0
        },
        "id": "3997eb8c",
        "outputId": "78fce939-9a02-46d1-cc7f-202750c3fed4"
      },
      "outputs": [
        {
          "output_type": "stream",
          "name": "stdout",
          "text": [
            "Wrote 60000 messages into topic: susy-train\n",
            "Wrote 40000 messages into topic: susy-test\n"
          ]
        }
      ],
      "source": [
        "# Store the train and test data in kafka\n",
        "\n",
        "def error_callback(exc):\n",
        "    raise Exception('Error while sendig data to kafka: {0}'.format(str(exc)))\n",
        "\n",
        "def write_to_kafka(topic_name, items):\n",
        "  count=0\n",
        "  producer = KafkaProducer(bootstrap_servers=['127.0.0.1:9092'])\n",
        "  for message, key in items:\n",
        "    producer.send(topic_name, key=key.encode('utf-8'), value=message.encode('utf-8')).add_errback(error_callback)\n",
        "    count+=1\n",
        "  producer.flush()\n",
        "  print(\"Wrote {0} messages into topic: {1}\".format(count, topic_name))\n",
        "\n",
        "write_to_kafka(\"susy-train\", zip(x_train, y_train))\n",
        "write_to_kafka(\"susy-test\", zip(x_test, y_test))"
      ]
    },
    {
      "cell_type": "code",
      "execution_count": 16,
      "id": "7cba4ad4",
      "metadata": {
        "id": "7cba4ad4"
      },
      "outputs": [],
      "source": [
        "def decode_kafka_item(item):\n",
        "  message = tf.io.decode_csv(item.message, [[0.0] for i in range(NUM_COLUMNS)])\n",
        "  key = tf.strings.to_number(item.key)\n",
        "  return (message, key)\n",
        "\n",
        "BATCH_SIZE=64\n",
        "SHUFFLE_BUFFER_SIZE=64\n",
        "train_ds = tfio.IODataset.from_kafka('susy-train', partition=0, offset=0)\n",
        "train_ds = train_ds.shuffle(buffer_size=SHUFFLE_BUFFER_SIZE)\n",
        "train_ds = train_ds.map(decode_kafka_item)\n",
        "train_ds = train_ds.batch(BATCH_SIZE)"
      ]
    },
    {
      "cell_type": "code",
      "execution_count": 17,
      "id": "6f73ae7d",
      "metadata": {
        "id": "6f73ae7d"
      },
      "outputs": [],
      "source": [
        "# Set the parameters\n",
        "\n",
        "OPTIMIZER=\"adam\"\n",
        "LOSS=tf.keras.losses.BinaryCrossentropy(from_logits=True)\n",
        "METRICS=['accuracy']\n",
        "EPOCHS=10"
      ]
    },
    {
      "cell_type": "code",
      "execution_count": 18,
      "id": "d7560149",
      "metadata": {
        "colab": {
          "base_uri": "https://localhost:8080/",
          "height": 0
        },
        "id": "d7560149",
        "outputId": "defefcd6-927f-4efb-d323-49cf41992869"
      },
      "outputs": [
        {
          "output_type": "stream",
          "name": "stdout",
          "text": [
            "Model: \"sequential\"\n",
            "_________________________________________________________________\n",
            "Layer (type)                 Output Shape              Param #   \n",
            "=================================================================\n",
            "dense (Dense)                (None, 128)               2432      \n",
            "_________________________________________________________________\n",
            "dropout (Dropout)            (None, 128)               0         \n",
            "_________________________________________________________________\n",
            "dense_1 (Dense)              (None, 256)               33024     \n",
            "_________________________________________________________________\n",
            "dropout_1 (Dropout)          (None, 256)               0         \n",
            "_________________________________________________________________\n",
            "dense_2 (Dense)              (None, 128)               32896     \n",
            "_________________________________________________________________\n",
            "dropout_2 (Dropout)          (None, 128)               0         \n",
            "_________________________________________________________________\n",
            "dense_3 (Dense)              (None, 1)                 129       \n",
            "=================================================================\n",
            "Total params: 68,481\n",
            "Trainable params: 68,481\n",
            "Non-trainable params: 0\n",
            "_________________________________________________________________\n",
            "None\n"
          ]
        }
      ],
      "source": [
        "# design/build the model\n",
        "model = tf.keras.Sequential([\n",
        "  tf.keras.layers.Input(shape=(NUM_COLUMNS,)),\n",
        "  tf.keras.layers.Dense(128, activation='relu'),\n",
        "  tf.keras.layers.Dropout(0.2),\n",
        "  tf.keras.layers.Dense(256, activation='relu'),\n",
        "  tf.keras.layers.Dropout(0.4),\n",
        "  tf.keras.layers.Dense(128, activation='relu'),\n",
        "  tf.keras.layers.Dropout(0.4),\n",
        "  tf.keras.layers.Dense(1, activation='sigmoid')\n",
        "])\n",
        "\n",
        "print(model.summary())"
      ]
    },
    {
      "cell_type": "code",
      "execution_count": 19,
      "id": "e43efec8",
      "metadata": {
        "id": "e43efec8"
      },
      "outputs": [],
      "source": [
        "# compile the model\n",
        "model.compile(optimizer=OPTIMIZER, loss=LOSS, metrics=METRICS)"
      ]
    },
    {
      "cell_type": "code",
      "execution_count": 20,
      "id": "ad87ccaa",
      "metadata": {
        "colab": {
          "base_uri": "https://localhost:8080/",
          "height": 0
        },
        "id": "ad87ccaa",
        "outputId": "f603c2f6-a9c9-4d50-ae3b-de518c162c40"
      },
      "outputs": [
        {
          "output_type": "stream",
          "name": "stdout",
          "text": [
            "Epoch 1/10\n",
            "938/938 [==============================] - 35s 36ms/step - loss: 0.5131 - accuracy: 0.7488\n",
            "Epoch 2/10\n",
            "938/938 [==============================] - 33s 35ms/step - loss: 0.4606 - accuracy: 0.7865\n",
            "Epoch 3/10\n",
            "938/938 [==============================] - 32s 34ms/step - loss: 0.4550 - accuracy: 0.7904\n",
            "Epoch 4/10\n",
            "938/938 [==============================] - 33s 35ms/step - loss: 0.4513 - accuracy: 0.7934\n",
            "Epoch 5/10\n",
            "938/938 [==============================] - 33s 35ms/step - loss: 0.4494 - accuracy: 0.7939\n",
            "Epoch 6/10\n",
            "938/938 [==============================] - 33s 35ms/step - loss: 0.4485 - accuracy: 0.7946\n",
            "Epoch 7/10\n",
            "938/938 [==============================] - 33s 34ms/step - loss: 0.4477 - accuracy: 0.7937\n",
            "Epoch 8/10\n",
            "938/938 [==============================] - 32s 34ms/step - loss: 0.4456 - accuracy: 0.7939\n",
            "Epoch 9/10\n",
            "938/938 [==============================] - 33s 34ms/step - loss: 0.4449 - accuracy: 0.7957\n",
            "Epoch 10/10\n",
            "938/938 [==============================] - 34s 36ms/step - loss: 0.4458 - accuracy: 0.7954\n"
          ]
        },
        {
          "output_type": "execute_result",
          "data": {
            "text/plain": [
              "<tensorflow.python.keras.callbacks.History at 0x7f5f2eba6710>"
            ]
          },
          "metadata": {},
          "execution_count": 20
        }
      ],
      "source": [
        "# fit the model\n",
        "model.fit(train_ds, epochs=EPOCHS)"
      ]
    },
    {
      "cell_type": "code",
      "execution_count": 21,
      "id": "c8a89fe4",
      "metadata": {
        "id": "c8a89fe4"
      },
      "outputs": [],
      "source": [
        "test_ds = tfio.experimental.streaming.KafkaGroupIODataset(\n",
        "    topics=[\"susy-test\"],\n",
        "    group_id=\"testcg\",\n",
        "    servers=\"127.0.0.1:9092\",\n",
        "    stream_timeout=10000,\n",
        "    configuration=[\n",
        "        \"session.timeout.ms=7000\",\n",
        "        \"max.poll.interval.ms=8000\",\n",
        "        \"auto.offset.reset=earliest\"\n",
        "    ],\n",
        ")\n",
        "\n",
        "def decode_kafka_test_item(raw_message, raw_key):\n",
        "  message = tf.io.decode_csv(raw_message, [[0.0] for i in range(NUM_COLUMNS)])\n",
        "  key = tf.strings.to_number(raw_key)\n",
        "  return (message, key)\n",
        "\n",
        "test_ds = test_ds.map(decode_kafka_test_item)\n",
        "test_ds = test_ds.batch(BATCH_SIZE)"
      ]
    },
    {
      "cell_type": "code",
      "execution_count": 22,
      "id": "9148b118",
      "metadata": {
        "colab": {
          "base_uri": "https://localhost:8080/",
          "height": 0
        },
        "id": "9148b118",
        "outputId": "c8130e62-0445-4387-e7ce-6c7a4f923a27"
      },
      "outputs": [
        {
          "output_type": "stream",
          "name": "stdout",
          "text": [
            "625/625 [==============================] - 14s 22ms/step - loss: 0.4368 - accuracy: 0.7974\n",
            "test loss, test acc: [0.4368078112602234, 0.7974249720573425]\n"
          ]
        }
      ],
      "source": [
        "res = model.evaluate(test_ds)\n",
        "print(\"test loss, test acc:\", res)"
      ]
    },
    {
      "cell_type": "code",
      "source": [
        "!./kafka_2.13-2.7.2/bin/kafka-consumer-groups.sh --bootstrap-server 127.0.0.1:9092 --describe --group testcg"
      ],
      "metadata": {
        "colab": {
          "base_uri": "https://localhost:8080/",
          "height": 0
        },
        "id": "YNYybcYPODwr",
        "outputId": "60c76b30-86da-458a-caeb-25a2a3dcd60c"
      },
      "id": "YNYybcYPODwr",
      "execution_count": 23,
      "outputs": [
        {
          "output_type": "stream",
          "name": "stdout",
          "text": [
            "\n",
            "GROUP           TOPIC           PARTITION  CURRENT-OFFSET  LOG-END-OFFSET  LAG             CONSUMER-ID                                  HOST            CLIENT-ID\n",
            "testcg          susy-test       0          21664           21664           0               rdkafka-a8c3c780-04d1-4176-bf74-3df709c2e775 /172.28.0.2     rdkafka\n",
            "testcg          susy-test       1          18336           18336           0               rdkafka-a8c3c780-04d1-4176-bf74-3df709c2e775 /172.28.0.2     rdkafka\n"
          ]
        }
      ]
    },
    {
      "cell_type": "code",
      "execution_count": 24,
      "id": "f2ff1045",
      "metadata": {
        "id": "f2ff1045"
      },
      "outputs": [],
      "source": [
        "online_train_ds = tfio.experimental.streaming.KafkaBatchIODataset(\n",
        "    topics=[\"susy-train\"],\n",
        "    group_id=\"cgonline\",\n",
        "    servers=\"127.0.0.1:9092\",\n",
        "    stream_timeout=10000, # in milliseconds, to block indefinitely, set it to -1.\n",
        "    configuration=[\n",
        "        \"session.timeout.ms=7000\",\n",
        "        \"max.poll.interval.ms=8000\",\n",
        "        \"auto.offset.reset=earliest\"\n",
        "    ],\n",
        ")"
      ]
    },
    {
      "cell_type": "code",
      "execution_count": 25,
      "id": "bb884f96",
      "metadata": {
        "colab": {
          "base_uri": "https://localhost:8080/",
          "height": 0
        },
        "id": "bb884f96",
        "outputId": "f9ddebad-b338-48a2-d188-ac91f9893fdd"
      },
      "outputs": [
        {
          "output_type": "stream",
          "name": "stdout",
          "text": [
            "Epoch 1/3\n",
            "32/32 [==============================] - 0s 5ms/step - loss: 0.4638 - accuracy: 0.7734\n",
            "Epoch 2/3\n",
            "32/32 [==============================] - 0s 5ms/step - loss: 0.4483 - accuracy: 0.7773\n",
            "Epoch 3/3\n",
            "32/32 [==============================] - 0s 4ms/step - loss: 0.4416 - accuracy: 0.7822\n",
            "Epoch 1/3\n",
            "32/32 [==============================] - 0s 4ms/step - loss: 0.4510 - accuracy: 0.8018\n",
            "Epoch 2/3\n",
            "32/32 [==============================] - 0s 4ms/step - loss: 0.4278 - accuracy: 0.8105\n",
            "Epoch 3/3\n",
            "32/32 [==============================] - 0s 3ms/step - loss: 0.4071 - accuracy: 0.8203\n",
            "Epoch 1/3\n",
            "32/32 [==============================] - 0s 4ms/step - loss: 0.4618 - accuracy: 0.7793\n",
            "Epoch 2/3\n",
            "32/32 [==============================] - 0s 4ms/step - loss: 0.4384 - accuracy: 0.7900\n",
            "Epoch 3/3\n",
            "32/32 [==============================] - 0s 4ms/step - loss: 0.4400 - accuracy: 0.7832\n",
            "Epoch 1/3\n",
            "32/32 [==============================] - 0s 4ms/step - loss: 0.4514 - accuracy: 0.8066\n",
            "Epoch 2/3\n",
            "32/32 [==============================] - 0s 4ms/step - loss: 0.4367 - accuracy: 0.8018\n",
            "Epoch 3/3\n",
            "32/32 [==============================] - 0s 4ms/step - loss: 0.4330 - accuracy: 0.8018\n",
            "Epoch 1/3\n",
            "32/32 [==============================] - 0s 4ms/step - loss: 0.4517 - accuracy: 0.7920\n",
            "Epoch 2/3\n",
            "32/32 [==============================] - 0s 5ms/step - loss: 0.4255 - accuracy: 0.8066\n",
            "Epoch 3/3\n",
            "32/32 [==============================] - 0s 4ms/step - loss: 0.4173 - accuracy: 0.8203\n",
            "Epoch 1/3\n",
            "32/32 [==============================] - 0s 4ms/step - loss: 0.4359 - accuracy: 0.7998\n",
            "Epoch 2/3\n",
            "32/32 [==============================] - 0s 4ms/step - loss: 0.4273 - accuracy: 0.8076\n",
            "Epoch 3/3\n",
            "32/32 [==============================] - 0s 4ms/step - loss: 0.4124 - accuracy: 0.8086\n",
            "Epoch 1/3\n",
            "32/32 [==============================] - 0s 4ms/step - loss: 0.4461 - accuracy: 0.7930\n",
            "Epoch 2/3\n",
            "32/32 [==============================] - 0s 4ms/step - loss: 0.4251 - accuracy: 0.7979\n",
            "Epoch 3/3\n",
            "32/32 [==============================] - 0s 5ms/step - loss: 0.4142 - accuracy: 0.8145\n",
            "Epoch 1/3\n",
            "32/32 [==============================] - 0s 5ms/step - loss: 0.4728 - accuracy: 0.7881\n",
            "Epoch 2/3\n",
            "32/32 [==============================] - 0s 5ms/step - loss: 0.4474 - accuracy: 0.8027\n",
            "Epoch 3/3\n",
            "32/32 [==============================] - 0s 5ms/step - loss: 0.4372 - accuracy: 0.8018\n",
            "Epoch 1/3\n",
            "32/32 [==============================] - 0s 5ms/step - loss: 0.4776 - accuracy: 0.7715\n",
            "Epoch 2/3\n",
            "32/32 [==============================] - 0s 5ms/step - loss: 0.4614 - accuracy: 0.7783\n",
            "Epoch 3/3\n",
            "32/32 [==============================] - 0s 4ms/step - loss: 0.4413 - accuracy: 0.7930\n",
            "Epoch 1/3\n",
            "32/32 [==============================] - 0s 6ms/step - loss: 0.4326 - accuracy: 0.8027\n",
            "Epoch 2/3\n",
            "32/32 [==============================] - 0s 5ms/step - loss: 0.4134 - accuracy: 0.8086\n",
            "Epoch 3/3\n",
            "32/32 [==============================] - 0s 4ms/step - loss: 0.3989 - accuracy: 0.8203\n",
            "Epoch 1/3\n",
            "32/32 [==============================] - 0s 4ms/step - loss: 0.4697 - accuracy: 0.7822\n",
            "Epoch 2/3\n",
            "32/32 [==============================] - 0s 6ms/step - loss: 0.4508 - accuracy: 0.7930\n",
            "Epoch 3/3\n",
            "32/32 [==============================] - 0s 6ms/step - loss: 0.4389 - accuracy: 0.7939\n",
            "Epoch 1/3\n",
            "32/32 [==============================] - 0s 5ms/step - loss: 0.4590 - accuracy: 0.7939\n",
            "Epoch 2/3\n",
            "32/32 [==============================] - 0s 6ms/step - loss: 0.4284 - accuracy: 0.8145\n",
            "Epoch 3/3\n",
            "32/32 [==============================] - 0s 5ms/step - loss: 0.4240 - accuracy: 0.8184\n",
            "Epoch 1/3\n",
            "32/32 [==============================] - 0s 4ms/step - loss: 0.4813 - accuracy: 0.7705\n",
            "Epoch 2/3\n",
            "32/32 [==============================] - 0s 4ms/step - loss: 0.4543 - accuracy: 0.7881\n",
            "Epoch 3/3\n",
            "32/32 [==============================] - 0s 4ms/step - loss: 0.4531 - accuracy: 0.7920\n",
            "Epoch 1/3\n",
            "32/32 [==============================] - 0s 4ms/step - loss: 0.4474 - accuracy: 0.7949\n",
            "Epoch 2/3\n",
            "32/32 [==============================] - 0s 4ms/step - loss: 0.4246 - accuracy: 0.8066\n",
            "Epoch 3/3\n",
            "32/32 [==============================] - 0s 5ms/step - loss: 0.4198 - accuracy: 0.8145\n",
            "Epoch 1/3\n",
            "32/32 [==============================] - 0s 4ms/step - loss: 0.4444 - accuracy: 0.7949\n",
            "Epoch 2/3\n",
            "32/32 [==============================] - 0s 4ms/step - loss: 0.4330 - accuracy: 0.8047\n",
            "Epoch 3/3\n",
            "32/32 [==============================] - 0s 4ms/step - loss: 0.4201 - accuracy: 0.8105\n",
            "Epoch 1/3\n",
            "32/32 [==============================] - 0s 5ms/step - loss: 0.4552 - accuracy: 0.7822\n",
            "Epoch 2/3\n",
            "32/32 [==============================] - 0s 5ms/step - loss: 0.4485 - accuracy: 0.7979\n",
            "Epoch 3/3\n",
            "32/32 [==============================] - 0s 5ms/step - loss: 0.4373 - accuracy: 0.7949\n",
            "Epoch 1/3\n",
            "32/32 [==============================] - 0s 4ms/step - loss: 0.4250 - accuracy: 0.8174\n",
            "Epoch 2/3\n",
            "32/32 [==============================] - 0s 5ms/step - loss: 0.4133 - accuracy: 0.8350\n",
            "Epoch 3/3\n",
            "32/32 [==============================] - 0s 4ms/step - loss: 0.3934 - accuracy: 0.8291\n",
            "Epoch 1/3\n",
            "32/32 [==============================] - 0s 4ms/step - loss: 0.4320 - accuracy: 0.8027\n",
            "Epoch 2/3\n",
            "32/32 [==============================] - 0s 4ms/step - loss: 0.4057 - accuracy: 0.8184\n",
            "Epoch 3/3\n",
            "32/32 [==============================] - 0s 4ms/step - loss: 0.3984 - accuracy: 0.8271\n",
            "Epoch 1/3\n",
            "32/32 [==============================] - 0s 4ms/step - loss: 0.4254 - accuracy: 0.8047\n",
            "Epoch 2/3\n",
            "32/32 [==============================] - 0s 4ms/step - loss: 0.4100 - accuracy: 0.8105\n",
            "Epoch 3/3\n",
            "32/32 [==============================] - 0s 5ms/step - loss: 0.3892 - accuracy: 0.8164\n",
            "Epoch 1/3\n",
            "32/32 [==============================] - 0s 4ms/step - loss: 0.4364 - accuracy: 0.7988\n",
            "Epoch 2/3\n",
            "32/32 [==============================] - 0s 4ms/step - loss: 0.4084 - accuracy: 0.8164\n",
            "Epoch 3/3\n",
            "32/32 [==============================] - 0s 4ms/step - loss: 0.4094 - accuracy: 0.8135\n",
            "Epoch 1/3\n",
            "32/32 [==============================] - 0s 4ms/step - loss: 0.4666 - accuracy: 0.7822\n",
            "Epoch 2/3\n",
            "32/32 [==============================] - 0s 4ms/step - loss: 0.4537 - accuracy: 0.7852\n",
            "Epoch 3/3\n",
            "32/32 [==============================] - 0s 4ms/step - loss: 0.4355 - accuracy: 0.7998\n",
            "Epoch 1/3\n",
            "32/32 [==============================] - 0s 4ms/step - loss: 0.4840 - accuracy: 0.7783\n",
            "Epoch 2/3\n",
            "32/32 [==============================] - 0s 6ms/step - loss: 0.4633 - accuracy: 0.7734\n",
            "Epoch 3/3\n",
            "32/32 [==============================] - 0s 6ms/step - loss: 0.4501 - accuracy: 0.7803\n",
            "Epoch 1/3\n",
            "32/32 [==============================] - 0s 5ms/step - loss: 0.4661 - accuracy: 0.7832\n",
            "Epoch 2/3\n",
            "32/32 [==============================] - 0s 6ms/step - loss: 0.4529 - accuracy: 0.7881\n",
            "Epoch 3/3\n",
            "32/32 [==============================] - 0s 5ms/step - loss: 0.4566 - accuracy: 0.7832\n",
            "Epoch 1/3\n",
            "32/32 [==============================] - 0s 4ms/step - loss: 0.4862 - accuracy: 0.7734\n",
            "Epoch 2/3\n",
            "32/32 [==============================] - 0s 4ms/step - loss: 0.4823 - accuracy: 0.7734\n",
            "Epoch 3/3\n",
            "32/32 [==============================] - 0s 4ms/step - loss: 0.4594 - accuracy: 0.7832\n",
            "Epoch 1/3\n",
            "32/32 [==============================] - 0s 4ms/step - loss: 0.4660 - accuracy: 0.7900\n",
            "Epoch 2/3\n",
            "32/32 [==============================] - 0s 4ms/step - loss: 0.4584 - accuracy: 0.7852\n",
            "Epoch 3/3\n",
            "32/32 [==============================] - 0s 4ms/step - loss: 0.4307 - accuracy: 0.7998\n",
            "Epoch 1/3\n",
            "32/32 [==============================] - 0s 5ms/step - loss: 0.4638 - accuracy: 0.8027\n",
            "Epoch 2/3\n",
            "32/32 [==============================] - 0s 5ms/step - loss: 0.4431 - accuracy: 0.8047\n",
            "Epoch 3/3\n",
            "32/32 [==============================] - 0s 4ms/step - loss: 0.4329 - accuracy: 0.8105\n",
            "Epoch 1/3\n",
            "32/32 [==============================] - 0s 4ms/step - loss: 0.4615 - accuracy: 0.7832\n",
            "Epoch 2/3\n",
            "32/32 [==============================] - 0s 4ms/step - loss: 0.4375 - accuracy: 0.7842\n",
            "Epoch 3/3\n",
            "32/32 [==============================] - 0s 6ms/step - loss: 0.4296 - accuracy: 0.7939\n",
            "Epoch 1/3\n",
            "32/32 [==============================] - 0s 4ms/step - loss: 0.4614 - accuracy: 0.7939\n",
            "Epoch 2/3\n",
            "32/32 [==============================] - 0s 4ms/step - loss: 0.4573 - accuracy: 0.7842\n",
            "Epoch 3/3\n",
            "32/32 [==============================] - 0s 5ms/step - loss: 0.4440 - accuracy: 0.8037\n",
            "Epoch 1/3\n",
            "32/32 [==============================] - 0s 5ms/step - loss: 0.4603 - accuracy: 0.7949\n",
            "Epoch 2/3\n",
            "32/32 [==============================] - 0s 4ms/step - loss: 0.4316 - accuracy: 0.7969\n",
            "Epoch 3/3\n",
            "32/32 [==============================] - 0s 6ms/step - loss: 0.4292 - accuracy: 0.8047\n",
            "Epoch 1/3\n",
            "32/32 [==============================] - 0s 4ms/step - loss: 0.4513 - accuracy: 0.7910\n",
            "Epoch 2/3\n",
            "32/32 [==============================] - 0s 5ms/step - loss: 0.4334 - accuracy: 0.7988\n",
            "Epoch 3/3\n",
            "32/32 [==============================] - 0s 4ms/step - loss: 0.4217 - accuracy: 0.7998\n",
            "Epoch 1/3\n",
            "32/32 [==============================] - 0s 4ms/step - loss: 0.4254 - accuracy: 0.8145\n",
            "Epoch 2/3\n",
            "32/32 [==============================] - 0s 5ms/step - loss: 0.3977 - accuracy: 0.8223\n",
            "Epoch 3/3\n",
            "32/32 [==============================] - 0s 5ms/step - loss: 0.4067 - accuracy: 0.8262\n",
            "Epoch 1/3\n",
            "32/32 [==============================] - 0s 5ms/step - loss: 0.4624 - accuracy: 0.7891\n",
            "Epoch 2/3\n",
            "32/32 [==============================] - 0s 4ms/step - loss: 0.4459 - accuracy: 0.7852\n",
            "Epoch 3/3\n",
            "32/32 [==============================] - 0s 5ms/step - loss: 0.4388 - accuracy: 0.7959\n",
            "Epoch 1/3\n",
            "32/32 [==============================] - 0s 5ms/step - loss: 0.4359 - accuracy: 0.7979\n",
            "Epoch 2/3\n",
            "32/32 [==============================] - 0s 4ms/step - loss: 0.4196 - accuracy: 0.8105\n",
            "Epoch 3/3\n",
            "32/32 [==============================] - 0s 4ms/step - loss: 0.4096 - accuracy: 0.8027\n",
            "Epoch 1/3\n",
            "32/32 [==============================] - 0s 4ms/step - loss: 0.4604 - accuracy: 0.7695\n",
            "Epoch 2/3\n",
            "32/32 [==============================] - 0s 4ms/step - loss: 0.4419 - accuracy: 0.7891\n",
            "Epoch 3/3\n",
            "32/32 [==============================] - 0s 5ms/step - loss: 0.4304 - accuracy: 0.7959\n",
            "Epoch 1/3\n",
            "32/32 [==============================] - 0s 5ms/step - loss: 0.4520 - accuracy: 0.7861\n",
            "Epoch 2/3\n",
            "32/32 [==============================] - 0s 4ms/step - loss: 0.4465 - accuracy: 0.7949\n",
            "Epoch 3/3\n",
            "32/32 [==============================] - 0s 5ms/step - loss: 0.4377 - accuracy: 0.8027\n",
            "Epoch 1/3\n",
            "32/32 [==============================] - 0s 5ms/step - loss: 0.4532 - accuracy: 0.7998\n",
            "Epoch 2/3\n",
            "32/32 [==============================] - 0s 5ms/step - loss: 0.4376 - accuracy: 0.8027\n",
            "Epoch 3/3\n",
            "32/32 [==============================] - 0s 6ms/step - loss: 0.4293 - accuracy: 0.8105\n",
            "Epoch 1/3\n",
            "32/32 [==============================] - 0s 4ms/step - loss: 0.4519 - accuracy: 0.7979\n",
            "Epoch 2/3\n",
            "32/32 [==============================] - 0s 5ms/step - loss: 0.4533 - accuracy: 0.7891\n",
            "Epoch 3/3\n",
            "32/32 [==============================] - 0s 4ms/step - loss: 0.4322 - accuracy: 0.7979\n",
            "Epoch 1/3\n",
            "32/32 [==============================] - 0s 4ms/step - loss: 0.4537 - accuracy: 0.7959\n",
            "Epoch 2/3\n",
            "32/32 [==============================] - 0s 5ms/step - loss: 0.4377 - accuracy: 0.8096\n",
            "Epoch 3/3\n",
            "32/32 [==============================] - 0s 5ms/step - loss: 0.4342 - accuracy: 0.8076\n",
            "Epoch 1/3\n",
            "32/32 [==============================] - 0s 4ms/step - loss: 0.4282 - accuracy: 0.8027\n",
            "Epoch 2/3\n",
            "32/32 [==============================] - 0s 5ms/step - loss: 0.4254 - accuracy: 0.8086\n",
            "Epoch 3/3\n",
            "32/32 [==============================] - 0s 4ms/step - loss: 0.3968 - accuracy: 0.8154\n",
            "Epoch 1/3\n",
            "32/32 [==============================] - 0s 5ms/step - loss: 0.4479 - accuracy: 0.7871\n",
            "Epoch 2/3\n",
            "32/32 [==============================] - 0s 6ms/step - loss: 0.4363 - accuracy: 0.7998\n",
            "Epoch 3/3\n",
            "32/32 [==============================] - 0s 4ms/step - loss: 0.4228 - accuracy: 0.7988\n",
            "Epoch 1/3\n",
            "32/32 [==============================] - 0s 4ms/step - loss: 0.4745 - accuracy: 0.7803\n",
            "Epoch 2/3\n",
            "32/32 [==============================] - 0s 6ms/step - loss: 0.4479 - accuracy: 0.7764\n",
            "Epoch 3/3\n",
            "32/32 [==============================] - 0s 5ms/step - loss: 0.4402 - accuracy: 0.7871\n",
            "Epoch 1/3\n",
            "32/32 [==============================] - 0s 6ms/step - loss: 0.4881 - accuracy: 0.7715\n",
            "Epoch 2/3\n",
            "32/32 [==============================] - 0s 5ms/step - loss: 0.4857 - accuracy: 0.7715\n",
            "Epoch 3/3\n",
            "32/32 [==============================] - 0s 4ms/step - loss: 0.4668 - accuracy: 0.7842\n",
            "Epoch 1/3\n",
            "32/32 [==============================] - 0s 5ms/step - loss: 0.4854 - accuracy: 0.7676\n",
            "Epoch 2/3\n",
            "32/32 [==============================] - 0s 5ms/step - loss: 0.4610 - accuracy: 0.7881\n",
            "Epoch 3/3\n",
            "32/32 [==============================] - 0s 4ms/step - loss: 0.4577 - accuracy: 0.7959\n",
            "Epoch 1/3\n",
            "32/32 [==============================] - 0s 5ms/step - loss: 0.4724 - accuracy: 0.7910\n",
            "Epoch 2/3\n",
            "32/32 [==============================] - 0s 4ms/step - loss: 0.4515 - accuracy: 0.7949\n",
            "Epoch 3/3\n",
            "32/32 [==============================] - 0s 4ms/step - loss: 0.4496 - accuracy: 0.7979\n",
            "Epoch 1/3\n",
            "32/32 [==============================] - 0s 5ms/step - loss: 0.4639 - accuracy: 0.7861\n",
            "Epoch 2/3\n",
            "32/32 [==============================] - 0s 4ms/step - loss: 0.4445 - accuracy: 0.7930\n",
            "Epoch 3/3\n",
            "32/32 [==============================] - 0s 6ms/step - loss: 0.4319 - accuracy: 0.7988\n",
            "Epoch 1/3\n",
            "32/32 [==============================] - 0s 4ms/step - loss: 0.4458 - accuracy: 0.7949\n",
            "Epoch 2/3\n",
            "32/32 [==============================] - 0s 4ms/step - loss: 0.4330 - accuracy: 0.7930\n",
            "Epoch 3/3\n",
            "32/32 [==============================] - 0s 5ms/step - loss: 0.4272 - accuracy: 0.7930\n",
            "Epoch 1/3\n",
            "32/32 [==============================] - 0s 5ms/step - loss: 0.4455 - accuracy: 0.7930\n",
            "Epoch 2/3\n",
            "32/32 [==============================] - 0s 6ms/step - loss: 0.4263 - accuracy: 0.7891\n",
            "Epoch 3/3\n",
            "32/32 [==============================] - 0s 4ms/step - loss: 0.4118 - accuracy: 0.8027\n",
            "Epoch 1/3\n",
            "32/32 [==============================] - 0s 4ms/step - loss: 0.4352 - accuracy: 0.8086\n",
            "Epoch 2/3\n",
            "32/32 [==============================] - 0s 4ms/step - loss: 0.4349 - accuracy: 0.7998\n",
            "Epoch 3/3\n",
            "32/32 [==============================] - 0s 5ms/step - loss: 0.4196 - accuracy: 0.8105\n",
            "Epoch 1/3\n",
            "32/32 [==============================] - 0s 5ms/step - loss: 0.4692 - accuracy: 0.7705\n",
            "Epoch 2/3\n",
            "32/32 [==============================] - 0s 5ms/step - loss: 0.4495 - accuracy: 0.7812\n",
            "Epoch 3/3\n",
            "32/32 [==============================] - 0s 4ms/step - loss: 0.4368 - accuracy: 0.7783\n",
            "Epoch 1/3\n",
            "32/32 [==============================] - 0s 5ms/step - loss: 0.4369 - accuracy: 0.7988\n",
            "Epoch 2/3\n",
            "32/32 [==============================] - 0s 5ms/step - loss: 0.4169 - accuracy: 0.8047\n",
            "Epoch 3/3\n",
            "32/32 [==============================] - 0s 4ms/step - loss: 0.4032 - accuracy: 0.8125\n",
            "Epoch 1/3\n",
            "32/32 [==============================] - 0s 5ms/step - loss: 0.4666 - accuracy: 0.7881\n",
            "Epoch 2/3\n",
            "32/32 [==============================] - 0s 5ms/step - loss: 0.4360 - accuracy: 0.7832\n",
            "Epoch 3/3\n",
            "32/32 [==============================] - 0s 4ms/step - loss: 0.4359 - accuracy: 0.7891\n",
            "Epoch 1/3\n",
            "32/32 [==============================] - 0s 4ms/step - loss: 0.4407 - accuracy: 0.7939\n",
            "Epoch 2/3\n",
            "32/32 [==============================] - 0s 5ms/step - loss: 0.4328 - accuracy: 0.7910\n",
            "Epoch 3/3\n",
            "32/32 [==============================] - 0s 5ms/step - loss: 0.4274 - accuracy: 0.8047\n",
            "Epoch 1/3\n",
            "32/32 [==============================] - 0s 5ms/step - loss: 0.4628 - accuracy: 0.7686\n",
            "Epoch 2/3\n",
            "32/32 [==============================] - 0s 4ms/step - loss: 0.4552 - accuracy: 0.7773\n",
            "Epoch 3/3\n",
            "32/32 [==============================] - 0s 5ms/step - loss: 0.4400 - accuracy: 0.7891\n",
            "Epoch 1/3\n",
            "32/32 [==============================] - 0s 4ms/step - loss: 0.4434 - accuracy: 0.7979\n",
            "Epoch 2/3\n",
            "32/32 [==============================] - 0s 4ms/step - loss: 0.4299 - accuracy: 0.7959\n",
            "Epoch 3/3\n",
            "32/32 [==============================] - 0s 4ms/step - loss: 0.4298 - accuracy: 0.8057\n",
            "Epoch 1/3\n",
            "32/32 [==============================] - 0s 4ms/step - loss: 0.4394 - accuracy: 0.7998\n",
            "Epoch 2/3\n",
            "32/32 [==============================] - 0s 4ms/step - loss: 0.4254 - accuracy: 0.8018\n",
            "Epoch 3/3\n",
            "32/32 [==============================] - 0s 4ms/step - loss: 0.4174 - accuracy: 0.8037\n",
            "Epoch 1/3\n",
            "32/32 [==============================] - 0s 4ms/step - loss: 0.4660 - accuracy: 0.7988\n",
            "Epoch 2/3\n",
            "32/32 [==============================] - 0s 5ms/step - loss: 0.4391 - accuracy: 0.8008\n",
            "Epoch 3/3\n",
            "32/32 [==============================] - 0s 5ms/step - loss: 0.4281 - accuracy: 0.8193\n",
            "Epoch 1/3\n",
            "32/32 [==============================] - 0s 4ms/step - loss: 0.4763 - accuracy: 0.7627\n",
            "Epoch 2/3\n",
            "32/32 [==============================] - 0s 4ms/step - loss: 0.4599 - accuracy: 0.7822\n",
            "Epoch 3/3\n",
            "32/32 [==============================] - 0s 5ms/step - loss: 0.4519 - accuracy: 0.7783\n",
            "Epoch 1/3\n",
            "32/32 [==============================] - 0s 4ms/step - loss: 0.4404 - accuracy: 0.7939\n",
            "Epoch 2/3\n",
            "32/32 [==============================] - 0s 4ms/step - loss: 0.4233 - accuracy: 0.8066\n",
            "Epoch 3/3\n",
            "32/32 [==============================] - 0s 5ms/step - loss: 0.4100 - accuracy: 0.8135\n",
            "Epoch 1/3\n",
            "19/19 [==============================] - 0s 4ms/step - loss: 0.4585 - accuracy: 0.7961\n",
            "Epoch 2/3\n",
            "19/19 [==============================] - 0s 5ms/step - loss: 0.4265 - accuracy: 0.8076\n",
            "Epoch 3/3\n",
            "19/19 [==============================] - 0s 5ms/step - loss: 0.4135 - accuracy: 0.8224\n"
          ]
        }
      ],
      "source": [
        "def decode_kafka_online_item(raw_message, raw_key):\n",
        "  message = tf.io.decode_csv(raw_message, [[0.0] for i in range(NUM_COLUMNS)])\n",
        "  key = tf.strings.to_number(raw_key)\n",
        "  return (message, key)\n",
        "\n",
        "for mini_ds in online_train_ds:\n",
        "  mini_ds = mini_ds.shuffle(buffer_size=32)\n",
        "  mini_ds = mini_ds.map(decode_kafka_online_item)\n",
        "  mini_ds = mini_ds.batch(32)\n",
        "  if len(mini_ds) > 0:\n",
        "    model.fit(mini_ds, epochs=3)"
      ]
    },
    {
      "cell_type": "markdown",
      "id": "1b079c76",
      "metadata": {
        "id": "1b079c76"
      },
      "source": [
        "## Task 1: Execute the above code properly with the given dataset. \n",
        "\n",
        "## Task 2: Make a report about,\n",
        "### -> detailed analysis of the code\n",
        "### -> How did you execute the task using Kafka, and why is Kafka important in this machine learning model?\n",
        "\n",
        "## Task 3: Feed a new dataset into Kafka. Utilizing the dataset, train and test your choice of machine learning model and solve any issues that may arise in the code\t\t\t\t\t\t\t\t\t\t\t"
      ]
    },
    {
      "cell_type": "code",
      "execution_count": null,
      "id": "5d4451f1",
      "metadata": {
        "id": "5d4451f1"
      },
      "outputs": [],
      "source": []
    }
  ],
  "metadata": {
    "kernelspec": {
      "display_name": "Python 3 (ipykernel)",
      "language": "python",
      "name": "python3"
    },
    "language_info": {
      "codemirror_mode": {
        "name": "ipython",
        "version": 3
      },
      "file_extension": ".py",
      "mimetype": "text/x-python",
      "name": "python",
      "nbconvert_exporter": "python",
      "pygments_lexer": "ipython3",
      "version": "3.9.7"
    },
    "colab": {
      "provenance": []
    }
  },
  "nbformat": 4,
  "nbformat_minor": 5
}